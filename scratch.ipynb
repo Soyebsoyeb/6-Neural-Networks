{
 "cells": [
  {
   "cell_type": "markdown",
   "id": "f77b69e9",
   "metadata": {},
   "source": [
    "(1) CODING OUR FIRST NEURON: 3 INPUTS (ONE NEURON)"
   ]
  },
  {
   "cell_type": "code",
   "execution_count": 2,
   "id": "3cc1d286",
   "metadata": {},
   "outputs": [
    {
     "name": "stdout",
     "output_type": "stream",
     "text": [
      "2.3\n"
     ]
    }
   ],
   "source": [
    "inputs = [1,2,3]\n",
    "weights = [0.2,0.8,-0.5]\n",
    "bias = 2\n",
    "\n",
    "outputs = (inputs[0]*weights[0]+inputs[1]*weights[1]+inputs[2]*weights[2]+bias)\n",
    "\n",
    "print(outputs)"
   ]
  },
  {
   "cell_type": "markdown",
   "id": "37b74c97",
   "metadata": {},
   "source": [
    "(2) CODING OUR SECOND NEURON: 4 INPUTS"
   ]
  },
  {
   "cell_type": "code",
   "execution_count": 3,
   "id": "bc33a7fc",
   "metadata": {},
   "outputs": [
    {
     "name": "stdout",
     "output_type": "stream",
     "text": [
      "4.8\n"
     ]
    }
   ],
   "source": [
    "inputs = [1,2,3,2.5]\n",
    "weights = [0.2,0.8,-0.5,1]\n",
    "bias = 2\n",
    "\n",
    "output = (inputs[0]*weights[0]+inputs[1]*weights[1]+inputs[2]*weights[2]+inputs[3]*weights[3]+bias)\n",
    "print(output)\n"
   ]
  },
  {
   "cell_type": "markdown",
   "id": "1fb80518",
   "metadata": {},
   "source": [
    "(3) CODING OUR FIRST LAYER"
   ]
  },
  {
   "cell_type": "code",
   "execution_count": 5,
   "id": "5b10a8fa",
   "metadata": {},
   "outputs": [
    {
     "name": "stdout",
     "output_type": "stream",
     "text": [
      "[4.8, 1.21, 2.385]\n"
     ]
    }
   ],
   "source": [
    "inputs = [1,2,3,2.5]\n",
    "weights = [[0.2,0.8,-0.5,1],[0.5,-0.91,0.26,-0.5],[-0.26,-0.27,0.17,0.87]]\n",
    "\n",
    "weights1 = weights[0] # LIST OF WEIGHTS ASSOCIATED WITH 1ST NEURON : W11,W12,W13,W14\n",
    "weights2 = weights[1] # LIST OF WEIGHTS ASSOCIATED WITH 2ND NEURON : W21,W22,W23,W24\n",
    "weights3 = weights[2] # LIST OF WEIGHTS ASSOCIATED WITH 3RD NEURON : W31,W32,W33,W34\n",
    "\n",
    "biases = [2,3,0.5]\n",
    "\n",
    "bias1 = 2\n",
    "bias2 = 3\n",
    "bias3 = 0.5\n",
    "\n",
    "outputs =[\n",
    "    # NEURON 1\n",
    "    inputs[0]*weights1[0]+inputs[1]*weights1[1]+inputs[2]*weights1[2]+inputs[3]*weights1[3]+bias1,\n",
    "    # NEURON 2\n",
    "    inputs[0]*weights2[0]+inputs[1]*weights2[1]+inputs[2]*weights2[2]+inputs[3]*weights2[3]+bias2,\n",
    "    # NEURON 3\n",
    "    inputs[0]*weights3[0]+inputs[1]*weights3[1]+inputs[2]*weights3[2]+inputs[3]*weights3[3]+bias3\n",
    "]\n",
    "\n",
    "print(outputs)"
   ]
  },
  {
   "cell_type": "markdown",
   "id": "ea157b85",
   "metadata": {},
   "source": [
    "(4) USING LOOPS FOR BETTER AND EASIER CODING"
   ]
  },
  {
   "cell_type": "code",
   "execution_count": 8,
   "id": "17c933df",
   "metadata": {},
   "outputs": [
    {
     "name": "stdout",
     "output_type": "stream",
     "text": [
      "[4.8, 1.21, 2.385]\n"
     ]
    }
   ],
   "source": [
    "inputs = [1,2,3,2.5]\n",
    "\n",
    "# LIST OF WEIGHTS\n",
    "weights = [[0.2,0.8,-0.5,1],[0.5,-0.91,0.26,-0.5],[-0.26,-0.27,0.17,0.87]]\n",
    "# LIST OF BIASES\n",
    "biases = [2,3,0.5]\n",
    "# OUTPUT OF CURRENT LAYER\n",
    "layer_outputs = []\n",
    "\n",
    "\n",
    "\n",
    "# for each neuron\n",
    "for neuron_weights,neuron_bias in zip(weights,biases):\n",
    "    # Zeroed output of given neuron\n",
    "    neuron_output = 0\n",
    "    # For each input and weight to the neuron\n",
    "    for n_input,weight in zip(inputs,neuron_weights):\n",
    "        # Multiply this input by associated weight\n",
    "        # and add to the neuron's output variable\n",
    "        neuron_output += n_input*weight  \n",
    "\n",
    "    # Add bias\n",
    "    neuron_output += neuron_bias\n",
    "    # Put neuron's result to the layer's output list\n",
    "    layer_outputs.append(neuron_output)\n",
    "print(layer_outputs)\n",
    "\n",
    "\n",
    "\n"
   ]
  },
  {
   "cell_type": "markdown",
   "id": "fb02b67b",
   "metadata": {},
   "source": [
    "(6) SINGLE NEURON USING NUMPY"
   ]
  },
  {
   "cell_type": "code",
   "execution_count": 9,
   "id": "ef0e2c75",
   "metadata": {},
   "outputs": [
    {
     "name": "stdout",
     "output_type": "stream",
     "text": [
      "4.8\n"
     ]
    }
   ],
   "source": [
    "import numpy as np\n",
    "\n",
    "inputs = [1,2,3,2.5]\n",
    "weights = [0.2,0.8,-0.5,1.0]\n",
    "bias = 2\n",
    "\n",
    "# Convert lists to numpy arrays\n",
    "inputs_array = np.array(inputs)\n",
    "weights_array = np.array(weights)\n",
    "\n",
    "# Calculate the dot product and add the bias\n",
    "outputs = np.dot(weights_array,inputs_array)+bias\n",
    "\n",
    "print(outputs)"
   ]
  },
  {
   "cell_type": "markdown",
   "id": "c5f004fc",
   "metadata": {},
   "source": [
    "(7) LAYER OF NEURONS USING NUMPY"
   ]
  },
  {
   "cell_type": "code",
   "execution_count": 18,
   "id": "b21e2154",
   "metadata": {},
   "outputs": [
    {
     "name": "stdout",
     "output_type": "stream",
     "text": [
      "[4.8   1.21  2.385]\n",
      "[4.8   1.21  2.385]\n"
     ]
    }
   ],
   "source": [
    "import numpy as np\n",
    "\n",
    "inputs = [1,2,3,2.5]\n",
    "weights = [[0.2,0.8,-0.5,1],[0.5,-0.91,0.26,-0.5],\n",
    "            [-0.26,-0.27,0.17,0.87]]\n",
    "\n",
    "biases = [2,3,0.5]\n",
    "\n",
    "# Convert lists to numpy arrays\n",
    "inputs_array = np.array(inputs)\n",
    "weights_array = np.array(weights)\n",
    "biases_array = np.array(biases)\n",
    "\n",
    "# Calculate the dot product and add the biases\n",
    "layer_outputs1 = np.dot(weights_array,inputs_array) + biases_array\n",
    "layer_outputs2 = np.dot(inputs_array,weights_array.T) + biases_array\n",
    "\n",
    "print(layer_outputs1)\n",
    "print(layer_outputs2)"
   ]
  },
  {
   "cell_type": "markdown",
   "id": "39eabf2e",
   "metadata": {},
   "source": [
    "(8) BATCH OF DATA USING NUMPY\n",
    "\n",
    "NEED TO TAKE TRANSPOSE OF WEIGHT MATRIX"
   ]
  },
  {
   "cell_type": "code",
   "execution_count": null,
   "id": "f58b37fa",
   "metadata": {},
   "outputs": [],
   "source": [
    "import numpy as np\n",
    "\n",
    "inputs = [[1.0, 2.0, 3.0, 2.5], \n",
    "          [2.0, 5.0, -1.0, 2.0], \n",
    "          [-1.5, 2.7, 3.3, -0.8]]\n",
    "weights = [[0.2, 0.8, -0.5, 1],\n",
    "           [0.5, -0.91, 0.26, -0.5],\n",
    "           [-0.26, -0.27, 0.17, 0.87]]\n",
    "biases = [2.0, 3.0, 0.5]\n",
    "\n",
    "# Convert lists to numpy arrays\n",
    "inputs_array = np.array(inputs)\n",
    "weights_array = np.array(weights)\n",
    "biases_array = np.array(biases)\n",
    "\n",
    "# Calculate the dot product and add the biases\n",
    "outputs = np.dot(inputs_array, weights_array.T) + biases_array\n",
    "print(outputs)"
   ]
  },
  {
   "cell_type": "markdown",
   "id": "f89ec23d",
   "metadata": {},
   "source": [
    "(9) 2 LAYERS AND BATCH OF DATA USING NUMPY"
   ]
  },
  {
   "cell_type": "code",
   "execution_count": null,
   "id": "844e05c8",
   "metadata": {},
   "outputs": [
    {
     "name": "stdout",
     "output_type": "stream",
     "text": [
      "[[ 0.5031  -1.04185 -2.03875]\n",
      " [ 0.2434  -2.7332  -5.7633 ]\n",
      " [-0.99314  1.41254 -0.35655]]\n"
     ]
    }
   ],
   "source": [
    "import numpy as np\n",
    "\n",
    "inputs = [[1,2,3,2.5],[2.,5.,-1.,2],[-1.5,2.7,3.3,-0.8]]\n",
    "\n",
    "weights = [[0.2,0.8,-0.5,1],[0.5,-0.91,0.26,-0.5],[-0.26,-0.27,0.17,0.87]]\n",
    "biases = [2,3,0.5]\n",
    "weights2 = [[0.1,-0.14,0.5],[-0.5,0.12,-0.33],[-0.44,0.73,-0.13]]\n",
    "biases2 = [-1,2,-0.5]\n",
    "\n",
    "# CONVERT LISTS TO NUMPY ARRAYS\n",
    "inputs_array = np.array(inputs)\n",
    "weights_array = np.array(weights)\n",
    "biases_array = np.array(biases)\n",
    "weights2_array = np.array(weights2)\n",
    "biases2_array = np.array(biases2)\n",
    "\n",
    "# CALCULATE THE OUTPUT OF THE FIRST LAYER\n",
    "layer1_outputs = np.dot(inputs_array,weights_array.T) + biases_array\n",
    "\n",
    "# CALCULATE THE OUTPUT OF THE SECOND LAYER\n",
    "layer2_outputs = np.dot(layer1_outputs,weights2_array.T) + biases2_array\n",
    "\n",
    "print(layer2_outputs)\n"
   ]
  }
 ],
 "metadata": {
  "kernelspec": {
   "display_name": "Python 3",
   "language": "python",
   "name": "python3"
  },
  "language_info": {
   "codemirror_mode": {
    "name": "ipython",
    "version": 3
   },
   "file_extension": ".py",
   "mimetype": "text/x-python",
   "name": "python",
   "nbconvert_exporter": "python",
   "pygments_lexer": "ipython3",
   "version": "3.9.6"
  }
 },
 "nbformat": 4,
 "nbformat_minor": 5
}
